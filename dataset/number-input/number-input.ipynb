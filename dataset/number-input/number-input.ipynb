{
 "cells": [
  {
   "cell_type": "code",
   "execution_count": 26,
   "metadata": {},
   "outputs": [],
   "source": [
    "import ipywidgets as widgets\n",
    "from IPython.display import display"
   ]
  },
  {
   "cell_type": "code",
   "execution_count": 27,
   "metadata": {},
   "outputs": [
    {
     "data": {
      "application/vnd.jupyter.widget-view+json": {
       "model_id": "c9fc5ab371c3428bbafa2d9c1471d2c1",
       "version_major": 2,
       "version_minor": 0
      },
      "text/plain": [
       "Label(value='Insert a Number')"
      ]
     },
     "metadata": {},
     "output_type": "display_data"
    },
    {
     "data": {
      "application/vnd.jupyter.widget-view+json": {
       "model_id": "8a68e8605ef14781a113793c9feae6df",
       "version_major": 2,
       "version_minor": 0
      },
      "text/plain": [
       "FloatText(value=0.0, step=0.01)"
      ]
     },
     "metadata": {},
     "output_type": "display_data"
    },
    {
     "data": {
      "application/vnd.jupyter.widget-view+json": {
       "model_id": "c7a1709d4f90404eba0d7a40c3fc7463",
       "version_major": 2,
       "version_minor": 0
      },
      "text/plain": [
       "Output()"
      ]
     },
     "metadata": {},
     "output_type": "display_data"
    }
   ],
   "source": [
    "prompt = widgets.Label(\"Insert a Number\")\n",
    "number_input = widgets.FloatText(\n",
    "    value=None,\n",
    "    placeholder=\"Type a number...\",\n",
    "    step = 0.01\n",
    ")\n",
    "\n",
    "def on_value_change(change):\n",
    "    output.clear_output()\n",
    "    with output:\n",
    "        print(f\"The current number is {number_input.value}\")\n",
    "\n",
    "display(prompt)\n",
    "display(number_input)\n",
    "output = widgets.Output()\n",
    "with output:\n",
    "    print(\"The current number is None\")\n",
    "\n",
    "display(output)\n",
    "\n",
    "number_input.observe(on_value_change, names='value')"
   ]
  }
 ],
 "metadata": {
  "kernelspec": {
   "display_name": "dashboard-conversion",
   "language": "python",
   "name": "python3"
  },
  "language_info": {
   "codemirror_mode": {
    "name": "ipython",
    "version": 3
   },
   "file_extension": ".py",
   "mimetype": "text/x-python",
   "name": "python",
   "nbconvert_exporter": "python",
   "pygments_lexer": "ipython3",
   "version": "3.12.5"
  }
 },
 "nbformat": 4,
 "nbformat_minor": 2
}
