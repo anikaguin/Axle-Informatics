{
 "cells": [
  {
   "cell_type": "code",
   "execution_count": 3,
   "metadata": {},
   "outputs": [],
   "source": [
    "import ipywidgets as widgets\n",
    "from IPython.display import display, clear_output\n"
   ]
  },
  {
   "cell_type": "code",
   "execution_count": 5,
   "metadata": {},
   "outputs": [
    {
     "data": {
      "application/vnd.jupyter.widget-view+json": {
       "model_id": "e6673265a5dd4fc1ae295041a518e150",
       "version_major": 2,
       "version_minor": 0
      },
      "text/plain": [
       "Label(value='Vote for your favorite')"
      ]
     },
     "metadata": {},
     "output_type": "display_data"
    },
    {
     "data": {
      "application/vnd.jupyter.widget-view+json": {
       "model_id": "f3de362623b349be9dcd798f126ee3eb",
       "version_major": 2,
       "version_minor": 0
      },
      "text/plain": [
       "Button(description='A', style=ButtonStyle())"
      ]
     },
     "metadata": {},
     "output_type": "display_data"
    },
    {
     "data": {
      "application/vnd.jupyter.widget-view+json": {
       "model_id": "59cf750edb1c49d5a96b0539bdf89536",
       "version_major": 2,
       "version_minor": 0
      },
      "text/plain": [
       "Button(description='B', style=ButtonStyle())"
      ]
     },
     "metadata": {},
     "output_type": "display_data"
    }
   ],
   "source": [
    "\n",
    "# Function to display the vote dialog\n",
    "def show_vote_dialog(item):\n",
    "    clear_output()\n",
    "\n",
    "    title_widget = widgets.Label(value='Cast your vote', \n",
    "                                 layout=widgets.Layout(font_weight='bold', font_size='28px')) \n",
    "    question_widget = widgets.Label(value=f'Why is {item} your favorite?', \n",
    "                                    layout=widgets.Layout(font_size='16px')) \n",
    "    \n",
    "    reason_input = widgets.Text(\n",
    "        description='Because...',\n",
    "        placeholder='Enter your reason here'\n",
    "    )\n",
    "    \n",
    "    submit_button = widgets.Button(description='Submit')\n",
    "\n",
    "    # Function to handle submit button click\n",
    "    def on_submit(b):\n",
    "        clear_output() \n",
    "        reason = reason_input.value\n",
    "        prompt = widgets.Label(f\"You voted for {item} because {reason}\")\n",
    "        display(prompt)\n",
    "\n",
    "    \n",
    "    submit_button.on_click(on_submit)\n",
    "\n",
    "    display(title_widget, question_widget, reason_input, submit_button)\n",
    "\n",
    "question = widgets.Label(\"Vote for your favorite\")\n",
    "display(question)\n",
    "vote_button_A = widgets.Button(description='A')\n",
    "vote_button_B = widgets.Button(description='B')\n",
    "\n",
    "def vote_for_A(b):\n",
    "    show_vote_dialog('A')\n",
    "\n",
    "def vote_for_B(b):\n",
    "    show_vote_dialog('B')\n",
    "\n",
    "vote_button_A.on_click(vote_for_A)\n",
    "vote_button_B.on_click(vote_for_B)\n",
    "\n",
    "display(vote_button_A, vote_button_B)\n",
    "\n"
   ]
  }
 ],
 "metadata": {
  "kernelspec": {
   "display_name": "dashboard-conversion",
   "language": "python",
   "name": "python3"
  },
  "language_info": {
   "codemirror_mode": {
    "name": "ipython",
    "version": 3
   },
   "file_extension": ".py",
   "mimetype": "text/x-python",
   "name": "python",
   "nbconvert_exporter": "python",
   "pygments_lexer": "ipython3",
   "version": "3.12.5"
  }
 },
 "nbformat": 4,
 "nbformat_minor": 2
}
