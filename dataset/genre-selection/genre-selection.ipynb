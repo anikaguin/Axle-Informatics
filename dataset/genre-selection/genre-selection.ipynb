{
 "cells": [
  {
   "cell_type": "code",
   "execution_count": 34,
   "metadata": {},
   "outputs": [],
   "source": [
    "import ipywidgets as widgets\n",
    "from IPython.display import display, HTML"
   ]
  },
  {
   "cell_type": "code",
   "execution_count": 35,
   "metadata": {},
   "outputs": [
    {
     "data": {
      "application/vnd.jupyter.widget-view+json": {
       "model_id": "52b0d00465704203a288fefac760c017",
       "version_major": 2,
       "version_minor": 0
      },
      "text/plain": [
       "RadioButtons(description=\"What's your favorite movie genre\", options=('Comedy', 'Drama', 'Documentary'), value…"
      ]
     },
     "metadata": {},
     "output_type": "display_data"
    },
    {
     "data": {
      "application/vnd.jupyter.widget-view+json": {
       "model_id": "d839de9092894116ba92f1c35194c2bd",
       "version_major": 2,
       "version_minor": 0
      },
      "text/plain": [
       "Output()"
      ]
     },
     "metadata": {},
     "output_type": "display_data"
    }
   ],
   "source": [
    "genre_widget = widgets.RadioButtons(\n",
    "    options=[\n",
    "        \"Comedy\",\n",
    "        \"Drama\",\n",
    "        \"Documentary\",\n",
    "    ],\n",
    "    description='What\\'s your favorite movie genre'\n",
    ")\n",
    "\n",
    "output = widgets.Output()\n",
    "\n",
    "def on_value_change(change):\n",
    "    with output:\n",
    "        output.clear_output()\n",
    "        if change['new'] == 'Comedy':\n",
    "            print(\"You selected comedy.\")\n",
    "        else:\n",
    "            print(\"You didn't select comedy.\")\n",
    "\n",
    "genre_widget.observe(on_value_change, names='value')\n",
    "\n",
    "display(genre_widget, output)"
   ]
  }
 ],
 "metadata": {
  "kernelspec": {
   "display_name": "dashboard-conversion",
   "language": "python",
   "name": "python3"
  },
  "language_info": {
   "codemirror_mode": {
    "name": "ipython",
    "version": 3
   },
   "file_extension": ".py",
   "mimetype": "text/x-python",
   "name": "python",
   "nbconvert_exporter": "python",
   "pygments_lexer": "ipython3",
   "version": "3.12.5"
  }
 },
 "nbformat": 4,
 "nbformat_minor": 2
}
