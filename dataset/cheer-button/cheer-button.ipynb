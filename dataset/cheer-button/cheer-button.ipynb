{
 "cells": [
  {
   "cell_type": "code",
   "execution_count": 7,
   "metadata": {},
   "outputs": [],
   "source": [
    "import ipywidgets as widgets\n",
    "from IPython.display import display\n",
    "import time\n",
    "import threading"
   ]
  },
  {
   "cell_type": "code",
   "execution_count": 8,
   "metadata": {},
   "outputs": [
    {
     "data": {
      "application/vnd.jupyter.widget-view+json": {
       "model_id": "3abce8d6a050499d88934e021b944258",
       "version_major": 2,
       "version_minor": 0
      },
      "text/plain": [
       "VBox(children=(Button(description='Three cheers', style=ButtonStyle()), VBox()))"
      ]
     },
     "metadata": {},
     "output_type": "display_data"
    }
   ],
   "source": [
    "\n",
    "message_box = widgets.VBox()\n",
    "\n",
    "cheers_button = widgets.Button(description='Three cheers')\n",
    "\n",
    "\n",
    "def show_toast(messages):\n",
    "    for message in messages:\n",
    "        label = widgets.Label(value=message)  \n",
    "        message_box.children += (label,)  \n",
    "        time.sleep(0.5)  \n",
    "def on_button_click(b):\n",
    "    message_box.children = ()  \n",
    "    messages = ['Hip!', 'Hip!', 'Hooray! 🎉']\n",
    "    threading.Thread(target=lambda: show_toast(messages)).start()\n",
    "\n",
    "cheers_button.on_click(on_button_click)\n",
    "ui = widgets.VBox([cheers_button, message_box])\n",
    "\n",
    "display(ui)\n"
   ]
  }
 ],
 "metadata": {
  "kernelspec": {
   "display_name": "dashboard-conversion",
   "language": "python",
   "name": "python3"
  },
  "language_info": {
   "codemirror_mode": {
    "name": "ipython",
    "version": 3
   },
   "file_extension": ".py",
   "mimetype": "text/x-python",
   "name": "python",
   "nbconvert_exporter": "python",
   "pygments_lexer": "ipython3",
   "version": "3.12.5"
  }
 },
 "nbformat": 4,
 "nbformat_minor": 2
}
