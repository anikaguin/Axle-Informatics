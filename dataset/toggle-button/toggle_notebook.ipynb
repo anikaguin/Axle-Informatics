{
 "cells": [
  {
   "cell_type": "code",
   "execution_count": 42,
   "metadata": {},
   "outputs": [],
   "source": [
    "import ipywidgets as widgets\n",
    "from IPython.display import display"
   ]
  },
  {
   "cell_type": "code",
   "execution_count": 51,
   "metadata": {},
   "outputs": [
    {
     "name": "stdout",
     "output_type": "stream",
     "text": [
      "Toggled to: Feature Activated\n",
      "Toggled to: Activate feature\n",
      "Toggled to: Feature Activated\n",
      "Toggled to: Activate feature\n"
     ]
    }
   ],
   "source": [
    "toggle = widgets.ToggleButton(\n",
    "    value=False,\n",
    "    description='Activate feature',\n",
    "    button_style ='success',\n",
    "    tooltip='Click to toggle',\n",
    ")"
   ]
  },
  {
   "cell_type": "code",
   "execution_count": 52,
   "metadata": {},
   "outputs": [],
   "source": [
    "def on_toggle(change):\n",
    "    if change['name'] == 'value':\n",
    "        if change['new']:\n",
    "            toggle.description = 'Feature Activated'\n",
    "        else:\n",
    "            toggle.description = 'Activate feature'\n",
    "        print('Toggled to:', toggle.description)\n",
    "   "
   ]
  },
  {
   "cell_type": "code",
   "execution_count": 53,
   "metadata": {},
   "outputs": [
    {
     "data": {
      "application/vnd.jupyter.widget-view+json": {
       "model_id": "48dbb171405141b888633e059a3a22ce",
       "version_major": 2,
       "version_minor": 0
      },
      "text/plain": [
       "ToggleButton(value=False, button_style='success', description='Activate feature', tooltip='Click to toggle')"
      ]
     },
     "metadata": {},
     "output_type": "display_data"
    }
   ],
   "source": [
    "toggle.observe(on_toggle, names='value')\n",
    "display(toggle)"
   ]
  },
  {
   "cell_type": "code",
   "execution_count": null,
   "metadata": {},
   "outputs": [],
   "source": []
  }
 ],
 "metadata": {
  "kernelspec": {
   "display_name": "Python 3",
   "language": "python",
   "name": "python3"
  },
  "language_info": {
   "codemirror_mode": {
    "name": "ipython",
    "version": 3
   },
   "file_extension": ".py",
   "mimetype": "text/x-python",
   "name": "python",
   "nbconvert_exporter": "python",
   "pygments_lexer": "ipython3",
   "version": "3.12.5"
  }
 },
 "nbformat": 4,
 "nbformat_minor": 2
}
