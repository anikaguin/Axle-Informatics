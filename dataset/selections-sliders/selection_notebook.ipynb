{
 "cells": [
  {
   "cell_type": "code",
   "execution_count": 1,
   "metadata": {},
   "outputs": [],
   "source": [
    "import ipywidgets as widgets\n"
   ]
  },
  {
   "cell_type": "code",
   "execution_count": 3,
   "metadata": {},
   "outputs": [
    {
     "data": {
      "application/vnd.jupyter.widget-view+json": {
       "model_id": "5d60a4824e8645eba931d3f6ce45cf3d",
       "version_major": 2,
       "version_minor": 0
      },
      "text/plain": [
       "ToggleButton(value=False, description='Click me')"
      ]
     },
     "execution_count": 3,
     "metadata": {},
     "output_type": "execute_result"
    }
   ],
   "source": [
    "widgets.ToggleButton(\n",
    "    value=False,\n",
    "    description='Click me',\n",
    "    disabled =False, \n",
    "    button_style= ''\n",
    ")"
   ]
  },
  {
   "cell_type": "code",
   "execution_count": 9,
   "metadata": {},
   "outputs": [
    {
     "data": {
      "application/vnd.jupyter.widget-view+json": {
       "model_id": "51de5eddd7bb43ac8dcf985fcb1667b7",
       "version_major": 2,
       "version_minor": 0
      },
      "text/plain": [
       "RadioButtons(description='Pick your sex', layout=Layout(width='max-content'), options=('Male', 'Female', 'othe…"
      ]
     },
     "execution_count": 9,
     "metadata": {},
     "output_type": "execute_result"
    }
   ],
   "source": [
    "widgets.RadioButtons(\n",
    "    options=['Male', 'Female', 'other'],\n",
    "    value = 'Male', \n",
    "    description = 'Pick your sex',\n",
    "    layout = {'width' : 'max-content'},\n",
    "    disabled=False\n",
    ")"
   ]
  },
  {
   "cell_type": "code",
   "execution_count": 19,
   "metadata": {},
   "outputs": [
    {
     "data": {
      "application/vnd.jupyter.widget-view+json": {
       "model_id": "b35030ffc83841e9aa0cede19a751c01",
       "version_major": 2,
       "version_minor": 0
      },
      "text/plain": [
       "Dropdown(description='Pick your course', layout=Layout(width='max-content'), options=('Machine Learning', 'Com…"
      ]
     },
     "execution_count": 19,
     "metadata": {},
     "output_type": "execute_result"
    }
   ],
   "source": [
    "widgets.Dropdown(\n",
    "    options = ['Machine Learning', 'Computer Science', 'Psychology'],\n",
    "    value = 'Machine Learning', \n",
    "    description = 'Pick your course', \n",
    "    layout = {'width' : 'max-content'},\n",
    "    style = {'description_width':'inital'},\n",
    "    disabled = False \n",
    ")"
   ]
  },
  {
   "cell_type": "code",
   "execution_count": 25,
   "metadata": {},
   "outputs": [
    {
     "data": {
      "application/vnd.jupyter.widget-view+json": {
       "model_id": "40437abbb15540d9a0ca190368ca2a8a",
       "version_major": 2,
       "version_minor": 0
      },
      "text/plain": [
       "SelectMultiple(description='Choose department(s)', index=(0,), options=('Content', 'Sales', 'Marketing'), valu…"
      ]
     },
     "execution_count": 25,
     "metadata": {},
     "output_type": "execute_result"
    }
   ],
   "source": [
    "widgets.SelectMultiple(\n",
    "    options = ['Content', 'Sales', 'Marketing'],\n",
    "    value = ['Content'],\n",
    "    description = \"Choose department(s)\",\n",
    "    disabled = False\n",
    ")"
   ]
  },
  {
   "cell_type": "code",
   "execution_count": 27,
   "metadata": {},
   "outputs": [
    {
     "data": {
      "application/vnd.jupyter.widget-view+json": {
       "model_id": "b43f7076d4db476d89ab4da28a2bf53d",
       "version_major": 2,
       "version_minor": 0
      },
      "text/plain": [
       "SelectionSlider(continuous_update=False, description='Rating', options=('Bad', 'Good', 'Outstanding'), value='…"
      ]
     },
     "execution_count": 27,
     "metadata": {},
     "output_type": "execute_result"
    }
   ],
   "source": [
    "widgets.SelectionSlider (\n",
    "    options= ['Bad', 'Good', 'Outstanding'], \n",
    "    value = 'Bad', \n",
    "    description = 'Rating', \n",
    "    disabled = False, \n",
    "    continuous_update = False,\n",
    "    orientation = 'horizontal', \n",
    "    readout = True\n",
    "    \n",
    ")"
   ]
  },
  {
   "cell_type": "code",
   "execution_count": 31,
   "metadata": {},
   "outputs": [
    {
     "data": {
      "application/vnd.jupyter.widget-view+json": {
       "model_id": "3b213384a03b4f6880c1ee54d97138e4",
       "version_major": 2,
       "version_minor": 0
      },
      "text/plain": [
       "IntSlider(value=1, continuous_update=False, description='Pick #', min=1)"
      ]
     },
     "execution_count": 31,
     "metadata": {},
     "output_type": "execute_result"
    }
   ],
   "source": [
    "widgets.IntSlider (\n",
    "    value = 1,\n",
    "    min = 1,\n",
    "    max = 100, \n",
    "    step= 1, \n",
    "    description='Pick #', \n",
    "    continuous_update = False, \n",
    "    orientation = 'horizontal', \n",
    "    readout =True,\n",
    "    readout_format = 'd'\n",
    ")"
   ]
  },
  {
   "cell_type": "code",
   "execution_count": null,
   "metadata": {},
   "outputs": [],
   "source": []
  }
 ],
 "metadata": {
  "kernelspec": {
   "display_name": "Python 3 (ipykernel)",
   "language": "python",
   "name": "python3"
  },
  "language_info": {
   "codemirror_mode": {
    "name": "ipython",
    "version": 3
   },
   "file_extension": ".py",
   "mimetype": "text/x-python",
   "name": "python",
   "nbconvert_exporter": "python",
   "pygments_lexer": "ipython3",
   "version": "3.12.4"
  }
 },
 "nbformat": 4,
 "nbformat_minor": 4
}
