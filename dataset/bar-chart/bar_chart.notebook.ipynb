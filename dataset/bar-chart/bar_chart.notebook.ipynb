{
 "cells": [
  {
   "cell_type": "code",
   "execution_count": null,
   "metadata": {},
   "outputs": [],
   "source": [
    "import pandas as pd\n",
    "import numpy as np\n",
    "import seaborn as sns\n",
    "import matplotlib.pyplot as plt\n"
   ]
  },
  {
   "cell_type": "code",
   "execution_count": null,
   "metadata": {},
   "outputs": [],
   "source": [
    "data = pd.DataFrame(np.random.randn(50, 2), columns=[\"x\",\"y\"])\n",
    "\n",
    "bar_data = data.copy()\n",
    "bar_data['index'] = bar_data.index\n",
    "sns.barplot(x='index', y='y', data=bar_data)\n",
    "plt.title(\"Bar Chart\")\n",
    "plt.show()\n",
    "\n",
    "# Line plot\n",
    "sns.lineplot(x='x', y='y', data=data)\n",
    "plt.title(\"Line Chart\")\n",
    "plt.show()\n",
    "\n",
    "# Fill between (this needs to be done after creating a line plot or scatter plot with Matplotlib)\n",
    "data = data.sort_values('x')\n",
    "plt.figure()  # Create a new figure\n",
    "plt.plot(data['x'], data['y'], color='blue')  # Line plot for the fill_between function\n",
    "plt.fill_between(data['x'], data['y'], color='blue', alpha=0.2)\n",
    "plt.title(\"Area Chart\")\n",
    "plt.show()"
   ]
  }
 ],
 "metadata": {
  "language_info": {
   "name": "python"
  }
 },
 "nbformat": 4,
 "nbformat_minor": 2
}
