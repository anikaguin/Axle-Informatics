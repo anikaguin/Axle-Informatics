{
 "cells": [
  {
   "cell_type": "code",
   "execution_count": 12,
   "metadata": {},
   "outputs": [],
   "source": [
    "import ipywidgets as widgets\n",
    "from IPython.display import display\n",
    "\n",
    "\n"
   ]
  },
  {
   "cell_type": "code",
   "execution_count": 13,
   "metadata": {},
   "outputs": [
    {
     "data": {
      "application/vnd.jupyter.widget-view+json": {
       "model_id": "daf528d5a06d4513878fecae2faed6ca",
       "version_major": 2,
       "version_minor": 0
      },
      "text/plain": [
       "Label(value='Movie title')"
      ]
     },
     "metadata": {},
     "output_type": "display_data"
    },
    {
     "data": {
      "application/vnd.jupyter.widget-view+json": {
       "model_id": "d00cc3363c514213b8b722a24ad85d5f",
       "version_major": 2,
       "version_minor": 0
      },
      "text/plain": [
       "Text(value='Life of Brian')"
      ]
     },
     "metadata": {},
     "output_type": "display_data"
    },
    {
     "data": {
      "application/vnd.jupyter.widget-view+json": {
       "model_id": "7c26e45e6524449390a4027177cd8ef9",
       "version_major": 2,
       "version_minor": 0
      },
      "text/plain": [
       "Output()"
      ]
     },
     "metadata": {},
     "output_type": "display_data"
    }
   ],
   "source": [
    "prompt = widgets.Label(\"Movie title\")\n",
    "\n",
    "title_input = widgets.Text(value='Life of Brian')\n",
    "\n",
    "\n",
    "output = widgets.Output()\n",
    "\n",
    "\n",
    "def update_title(change):\n",
    "    with output:\n",
    "        output.clear_output() \n",
    "        print(\"The current movie title is\", change['new'])  \n",
    "\n",
    "title_input.observe(update_title, names='value')\n",
    "\n",
    "display(prompt)\n",
    "display(title_input, output)\n",
    "\n",
    "with output:\n",
    "    print(\"The current movie title is\", title_input.value)"
   ]
  }
 ],
 "metadata": {
  "kernelspec": {
   "display_name": "dashboard-conversion",
   "language": "python",
   "name": "python3"
  },
  "language_info": {
   "codemirror_mode": {
    "name": "ipython",
    "version": 3
   },
   "file_extension": ".py",
   "mimetype": "text/x-python",
   "name": "python",
   "nbconvert_exporter": "python",
   "pygments_lexer": "ipython3",
   "version": "3.12.5"
  }
 },
 "nbformat": 4,
 "nbformat_minor": 2
}
