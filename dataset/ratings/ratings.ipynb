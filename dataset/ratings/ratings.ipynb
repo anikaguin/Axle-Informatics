{
 "cells": [
  {
   "cell_type": "code",
   "execution_count": 31,
   "metadata": {},
   "outputs": [],
   "source": [
    "import ipywidgets as widgets\n",
    "from IPython.display import display, clear_output\n"
   ]
  },
  {
   "cell_type": "code",
   "execution_count": 32,
   "metadata": {},
   "outputs": [
    {
     "data": {
      "application/vnd.jupyter.widget-view+json": {
       "model_id": "b17f58649f984d95bcdeec55c28c5c5c",
       "version_major": 2,
       "version_minor": 0
      },
      "text/plain": [
       "HBox(children=(Button(description='☆', layout=Layout(height='40px', width='40px'), style=ButtonStyle(button_co…"
      ]
     },
     "metadata": {},
     "output_type": "display_data"
    },
    {
     "data": {
      "application/vnd.jupyter.widget-view+json": {
       "model_id": "ff61db3830334d7eb8efd9aab532624f",
       "version_major": 2,
       "version_minor": 0
      },
      "text/plain": [
       "Output()"
      ]
     },
     "metadata": {},
     "output_type": "display_data"
    }
   ],
   "source": [
    "sentiment_mapping = [\"one\", \"two\", \"three\", \"four\", \"five\"]\n",
    "\n",
    "\n",
    "output = widgets.Output()\n",
    "\n",
    "\n",
    "def on_button_click(selected):\n",
    "    with output:\n",
    "        clear_output()\n",
    "        print(f\"You selected {sentiment_mapping[selected]} star(s).\")  \n",
    "\n",
    "    for idx, button in enumerate(buttons):\n",
    "        if idx <= selected:\n",
    "            button.description = '★'  \n",
    "            button.style.font_color = 'yellow' \n",
    "        else:\n",
    "            button.description = '☆' \n",
    "            button.style.font_color = 'black'  \n",
    "\n",
    "buttons = []\n",
    "for i in range(5):\n",
    "    button = widgets.Button(description='☆', button_style='', layout=widgets.Layout(width='40px', height='40px'))\n",
    "    button.style.button_color = 'transparent'  \n",
    "    button.style.font_size = '30px'  \n",
    "    button.on_click(lambda b, idx=i: on_button_click(idx))  \n",
    "    buttons.append(button)\n",
    "\n",
    "star_rating_box = widgets.HBox(buttons)\n",
    "\n",
    "with output:\n",
    "    print(\"Please rate your experience:\")\n",
    "\n",
    "display(star_rating_box, output)\n"
   ]
  }
 ],
 "metadata": {
  "kernelspec": {
   "display_name": "dashboard-conversion",
   "language": "python",
   "name": "python3"
  },
  "language_info": {
   "codemirror_mode": {
    "name": "ipython",
    "version": 3
   },
   "file_extension": ".py",
   "mimetype": "text/x-python",
   "name": "python",
   "nbconvert_exporter": "python",
   "pygments_lexer": "ipython3",
   "version": "3.12.5"
  }
 },
 "nbformat": 4,
 "nbformat_minor": 2
}
