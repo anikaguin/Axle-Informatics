{
 "cells": [
  {
   "cell_type": "code",
   "execution_count": 1,
   "metadata": {},
   "outputs": [],
   "source": [
    "import ipywidgets as widgets\n",
    "from IPython.display import display"
   ]
  },
  {
   "cell_type": "code",
   "execution_count": 16,
   "metadata": {},
   "outputs": [
    {
     "data": {
      "application/vnd.jupyter.widget-view+json": {
       "model_id": "ea1eee530df44f4fb7d4037f732daf46",
       "version_major": 2,
       "version_minor": 0
      },
      "text/plain": [
       "Label(value='How would you like to be contacted?')"
      ]
     },
     "metadata": {},
     "output_type": "display_data"
    },
    {
     "data": {
      "application/vnd.jupyter.widget-view+json": {
       "model_id": "023ab2e71d7f4a65a5880f2b6bff3ea8",
       "version_major": 2,
       "version_minor": 0
      },
      "text/plain": [
       "Dropdown(options=('Email', 'Home phone', 'Mobile phone'), value='Email')"
      ]
     },
     "metadata": {},
     "output_type": "display_data"
    },
    {
     "data": {
      "application/vnd.jupyter.widget-view+json": {
       "model_id": "012e4f09565d4dfcb14a4a127db5902c",
       "version_major": 2,
       "version_minor": 0
      },
      "text/plain": [
       "Output()"
      ]
     },
     "metadata": {},
     "output_type": "display_data"
    }
   ],
   "source": [
    "prompt = widgets.Label(\"How would you like to be contacted?\")\n",
    "options = [\"Email\", \"Home phone\", \"Mobile phone\"]\n",
    "option = widgets.Dropdown(\n",
    "    options=options,\n",
    "    value=options[0]\n",
    ")\n",
    "\n",
    "display(prompt)\n",
    "display(option)\n",
    "\n",
    "output = widgets.Output()\n",
    "\n",
    "with output:\n",
    "    print(f\"You selected: {option.value}\")\n",
    "\n",
    "def message(change):\n",
    "    output.clear_output()\n",
    "    with output:\n",
    "        print(f\"You selected: {option.value}\")\n",
    "\n",
    "option.observe(message, names='value')\n",
    "\n",
    "display(output)"
   ]
  }
 ],
 "metadata": {
  "kernelspec": {
   "display_name": "dashboard-conversion",
   "language": "python",
   "name": "python3"
  },
  "language_info": {
   "codemirror_mode": {
    "name": "ipython",
    "version": 3
   },
   "file_extension": ".py",
   "mimetype": "text/x-python",
   "name": "python",
   "nbconvert_exporter": "python",
   "pygments_lexer": "ipython3",
   "version": "3.12.5"
  }
 },
 "nbformat": 4,
 "nbformat_minor": 2
}
