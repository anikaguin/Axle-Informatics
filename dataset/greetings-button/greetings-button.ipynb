{
 "cells": [
  {
   "cell_type": "code",
   "execution_count": 11,
   "metadata": {},
   "outputs": [],
   "source": [
    "import ipywidgets as widgets\n",
    "from IPython.display import display, clear_output, HTML\n",
    "\n"
   ]
  },
  {
   "cell_type": "code",
   "execution_count": 12,
   "metadata": {},
   "outputs": [
    {
     "data": {
      "application/vnd.jupyter.widget-view+json": {
       "model_id": "d5af7d8305ef4806b20c029034fc30a3",
       "version_major": 2,
       "version_minor": 0
      },
      "text/plain": [
       "Button(button_style='danger', description='Reset', style=ButtonStyle())"
      ]
     },
     "metadata": {},
     "output_type": "display_data"
    },
    {
     "data": {
      "application/vnd.jupyter.widget-view+json": {
       "model_id": "7e5da8b421024b9a808d6c5452e8a4e7",
       "version_major": 2,
       "version_minor": 0
      },
      "text/plain": [
       "Button(description='Say hello', style=ButtonStyle(), _dom_classes=('outlined-button',))"
      ]
     },
     "metadata": {},
     "output_type": "display_data"
    },
    {
     "data": {
      "application/vnd.jupyter.widget-view+json": {
       "model_id": "18354db43ccd4067aba500d69a0b7d20",
       "version_major": 2,
       "version_minor": 0
      },
      "text/plain": [
       "Output()"
      ]
     },
     "metadata": {},
     "output_type": "display_data"
    },
    {
     "data": {
      "text/html": [
       "\n",
       "<style>\n",
       "    .outlined-button {\n",
       "        border: 2px solid red;  /* Red outline */\n",
       "        background-color: white;  /* White background */\n",
       "        color: red;  /* Red text color */\n",
       "    }\n",
       "</style>\n"
      ],
      "text/plain": [
       "<IPython.core.display.HTML object>"
      ]
     },
     "metadata": {},
     "output_type": "display_data"
    }
   ],
   "source": [
    "reset_button = widgets.Button(\n",
    "    description='Reset',\n",
    "    button_style='danger'  \n",
    ")\n",
    "\n",
    "hello_button = widgets.Button(\n",
    "    description='Say hello',\n",
    "    button_style=''  \n",
    ")\n",
    "\n",
    "\n",
    "hello_button.add_class(\"outlined-button\")\n",
    "\n",
    "\n",
    "output = widgets.Output()\n",
    "\n",
    "\n",
    "def on_hello_button_click(b):\n",
    "    with output:\n",
    "        clear_output()  \n",
    "        print(\"Why hello there\") \n",
    "\n",
    "\n",
    "def on_reset_button_click(b):\n",
    "    with output:\n",
    "        clear_output()  \n",
    "        print(\"Goodbye\") \n",
    "\n",
    "hello_button.on_click(on_hello_button_click)\n",
    "reset_button.on_click(on_reset_button_click)\n",
    "\n",
    "with output:\n",
    "    print(\"Goodbye\")\n",
    "\n",
    "display(reset_button, hello_button, output)\n",
    "\n",
    "display(HTML('''\n",
    "<style>\n",
    "    .outlined-button {\n",
    "        border: 2px solid red;  /* Red outline */\n",
    "        background-color: white;  /* White background */\n",
    "        color: red;  /* Red text color */\n",
    "    }\n",
    "</style>\n",
    "'''))"
   ]
  },
  {
   "cell_type": "code",
   "execution_count": null,
   "metadata": {},
   "outputs": [],
   "source": []
  }
 ],
 "metadata": {
  "kernelspec": {
   "display_name": "dashboard-conversion",
   "language": "python",
   "name": "python3"
  },
  "language_info": {
   "codemirror_mode": {
    "name": "ipython",
    "version": 3
   },
   "file_extension": ".py",
   "mimetype": "text/x-python",
   "name": "python",
   "nbconvert_exporter": "python",
   "pygments_lexer": "ipython3",
   "version": "3.12.5"
  }
 },
 "nbformat": 4,
 "nbformat_minor": 2
}
