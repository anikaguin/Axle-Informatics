{
 "cells": [
  {
   "cell_type": "code",
   "execution_count": 4,
   "id": "fca6afb5-39bd-45e9-8343-7649a2b5014c",
   "metadata": {},
   "outputs": [],
   "source": [
    "# Import Libraries"
   ]
  },
  {
   "cell_type": "code",
   "execution_count": 5,
   "id": "39088f8b-e16c-4d5d-a3f9-a37d2764de93",
   "metadata": {},
   "outputs": [],
   "source": [
    "import ipywidgets as widgets"
   ]
  },
  {
   "cell_type": "code",
   "execution_count": 6,
   "id": "b8a280ef-c380-4c6f-9b99-3083e9651cfd",
   "metadata": {},
   "outputs": [],
   "source": [
    "# Time Picker"
   ]
  },
  {
   "cell_type": "code",
   "execution_count": 15,
   "id": "11599086-0835-4c9c-9f5e-55c08f91ed9c",
   "metadata": {},
   "outputs": [
    {
     "data": {
      "application/vnd.jupyter.widget-view+json": {
       "model_id": "0d2fc4f16cbf487cb03807eb11641bfc",
       "version_major": 2,
       "version_minor": 0
      },
      "text/plain": [
       "TimePicker(value=None, description='Set an alarm', step=60.0)"
      ]
     },
     "execution_count": 15,
     "metadata": {},
     "output_type": "execute_result"
    }
   ],
   "source": [
    "widgets.TimePicker(\n",
    "    description='Set an alarm',\n",
    "    disabled=False\n",
    ")"
   ]
  }
 ],
 "metadata": {
  "kernelspec": {
   "display_name": "Python Plotting",
   "language": "python",
   "name": "python-plotting-env"
  },
  "language_info": {
   "codemirror_mode": {
    "name": "ipython",
    "version": 3
   },
   "file_extension": ".py",
   "mimetype": "text/x-python",
   "name": "python",
   "nbconvert_exporter": "python",
   "pygments_lexer": "ipython3",
   "version": "3.9.19"
  }
 },
 "nbformat": 4,
 "nbformat_minor": 5
}
