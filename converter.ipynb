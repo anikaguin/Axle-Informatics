{
 "cells": [
  {
   "cell_type": "code",
   "execution_count": 2,
   "id": "ae44f254-cc20-48b5-835f-45f8577e479b",
   "metadata": {},
   "outputs": [
    {
     "name": "stdout",
     "output_type": "stream",
     "text": [
      "Requirement already satisfied: openai in /opt/conda/lib/python3.11/site-packages (1.54.1)\n",
      "Requirement already satisfied: anyio<5,>=3.5.0 in /opt/conda/lib/python3.11/site-packages (from openai) (4.6.0)\n",
      "Requirement already satisfied: distro<2,>=1.7.0 in /opt/conda/lib/python3.11/site-packages (from openai) (1.8.0)\n",
      "Requirement already satisfied: httpx<1,>=0.23.0 in /opt/conda/lib/python3.11/site-packages (from openai) (0.27.2)\n",
      "Requirement already satisfied: jiter<1,>=0.4.0 in /opt/conda/lib/python3.11/site-packages (from openai) (0.7.0)\n",
      "Requirement already satisfied: pydantic<3,>=1.9.0 in /opt/conda/lib/python3.11/site-packages (from openai) (2.8.2)\n",
      "Requirement already satisfied: sniffio in /opt/conda/lib/python3.11/site-packages (from openai) (1.3.1)\n",
      "Requirement already satisfied: tqdm>4 in /opt/conda/lib/python3.11/site-packages (from openai) (4.66.5)\n",
      "Requirement already satisfied: typing-extensions<5,>=4.11 in /opt/conda/lib/python3.11/site-packages (from openai) (4.12.2)\n",
      "Requirement already satisfied: idna>=2.8 in /opt/conda/lib/python3.11/site-packages (from anyio<5,>=3.5.0->openai) (3.10)\n",
      "Requirement already satisfied: certifi in /opt/conda/lib/python3.11/site-packages (from httpx<1,>=0.23.0->openai) (2024.8.30)\n",
      "Requirement already satisfied: httpcore==1.* in /opt/conda/lib/python3.11/site-packages (from httpx<1,>=0.23.0->openai) (1.0.6)\n",
      "Requirement already satisfied: h11<0.15,>=0.13 in /opt/conda/lib/python3.11/site-packages (from httpcore==1.*->httpx<1,>=0.23.0->openai) (0.14.0)\n",
      "Requirement already satisfied: annotated-types>=0.4.0 in /opt/conda/lib/python3.11/site-packages (from pydantic<3,>=1.9.0->openai) (0.7.0)\n",
      "Requirement already satisfied: pydantic-core==2.20.1 in /opt/conda/lib/python3.11/site-packages (from pydantic<3,>=1.9.0->openai) (2.20.1)\n"
     ]
    }
   ],
   "source": [
    "!pip install openai"
   ]
  },
  {
   "cell_type": "code",
   "execution_count": 3,
   "id": "0720746e-6882-4764-8a3c-a211914d28ef",
   "metadata": {},
   "outputs": [],
   "source": [
    "import module\n",
    "await module._module.load('ollama')"
   ]
  },
  {
   "cell_type": "code",
   "execution_count": 4,
   "id": "fdd7439c-5811-4584-b75d-5c30cd1ef702",
   "metadata": {},
   "outputs": [],
   "source": [
    "import subprocess\n",
    "\n",
    "# Start a background process using subprocess.Popen\n",
    "process = subprocess.Popen(['ollama', 'serve'], stdout=subprocess.PIPE, stderr=subprocess.PIPE)"
   ]
  },
  {
   "cell_type": "code",
   "execution_count": 5,
   "id": "fd708d6f-1f5e-44e6-b89a-8a5d42475af6",
   "metadata": {},
   "outputs": [
    {
     "data": {
      "text/plain": [
       "'import pandas as pd\\nimport numpy as np\\nimport plotly.express as px\\n\\n# Generate random data\\ndf = pd.DataFrame(np.random.randn(200, 3), columns=[\"a\", \"b\", \"c\"])\\n\\n# Ensure size values are non-negative by taking the absolute value\\ndf[\\'c\\'] = df[\\'c\\'].abs()\\n\\n# Create the scatter plot with different shades of blue\\nfig = px.scatter(df, x=\\'a\\', y=\\'b\\', \\n                 size=\\'c\\', \\n                 color=\\'c\\', \\n                 color_continuous_scale=px.colors.sequential.Blues[::-1],  # Lighter shades for smaller c\\n                 hover_data={\\'a\\': True, \\'b\\': True, \\'c\\': True},  # Show only a, b, and c\\n                 )\\n\\n# Show the figure\\nfig.show()\\n\\n'"
      ]
     },
     "execution_count": 5,
     "metadata": {},
     "output_type": "execute_result"
    }
   ],
   "source": [
    "import nbformat\n",
    "\n",
    "file_path = 'plot-data.ipynb'\n",
    "nb_code = nbformat.read(file_path, as_version=4)\n",
    "\n",
    "py_script = ''\n",
    "for cell in nb_code['cells']:\n",
    "    if (cell['cell_type'] == 'code'):\n",
    "        py_script += cell['source'] + '\\n'\n",
    "py_script"
   ]
  },
  {
   "cell_type": "code",
   "execution_count": 6,
   "id": "ad54aa18-8cd3-4248-9cd8-5f50f5fea363",
   "metadata": {},
   "outputs": [],
   "source": [
    "from openai import OpenAI"
   ]
  },
  {
   "cell_type": "code",
   "execution_count": 7,
   "id": "f4c08118-bac7-452c-bfea-1a8e7b306d79",
   "metadata": {},
   "outputs": [],
   "source": [
    "client = OpenAI(\n",
    "    base_url = 'http://localhost:11434/v1',\n",
    "    api_key='ollama',\n",
    ")"
   ]
  },
  {
   "cell_type": "code",
   "execution_count": 8,
   "id": "141a57ad-427b-44d2-ae20-341bbc956cc5",
   "metadata": {},
   "outputs": [],
   "source": [
    "model= \"gemma2:latest\""
   ]
  },
  {
   "cell_type": "code",
   "execution_count": 9,
   "id": "36d24f33-20bd-4958-a6c8-6686fb9a1ee6",
   "metadata": {},
   "outputs": [],
   "source": [
    "def prompt_with_examples(prompt, examples=[]):\n",
    "    full_prompt = prompt + \"\\n\\n--- Examples ---\\n\\n\"\n",
    "    \n",
    "    # Append each example pair\n",
    "    for example_prompt, example_response in examples:\n",
    "         full_prompt += f\"Example Prompt:\\n{example_prompt}\\nExample Response:\\n{example_response}\\n\\n\"\n",
    "        \n",
    "    full_prompt += \"\\n--- End of Examples ---\\n\\n. Convert the following code to Streamlit code ONLY\"\n",
    "    full_prompt += prompt\n",
    "    return full_prompt"
   ]
  },
  {
   "cell_type": "code",
   "execution_count": 10,
   "id": "41bc3455-0387-43cb-be99-f534ad9211af",
   "metadata": {},
   "outputs": [],
   "source": [
    "def generate(system_prompt, examples, model):\n",
    "    # Prepare the messages for the API call\n",
    "    messages = [\n",
    "        {\n",
    "            \"role\": \"system\",\n",
    "            \"content\": system_prompt,\n",
    "        },\n",
    "        {\n",
    "            \"role\": \"user\",\n",
    "            \"content\": examples,\n",
    "        }\n",
    "    ]\n",
    "\n",
    "    # Call the chat completion API\n",
    "    response = client.chat.completions.create(\n",
    "        model=model,\n",
    "        messages=messages,\n",
    "     \n",
    "    )\n",
    "\n",
    "    # Extract and return the generated content\n",
    "    return response.choices[0].message.content.strip()"
   ]
  },
  {
   "cell_type": "code",
   "execution_count": 11,
   "id": "d05c0f03-6a8a-4a15-9ea1-e2b5d4340187",
   "metadata": {},
   "outputs": [],
   "source": [
    "# Example1\n",
    "file_path = 'ratings.ipynb'\n",
    "nb_code = nbformat.read(file_path, as_version=4)\n",
    "\n",
    "example1_prompt = ''\n",
    "for cell in nb_code['cells']:\n",
    "    if (cell['cell_type'] == 'code'):\n",
    "        example1_prompt += cell['source'] + '\\n'\n",
    "\n",
    "file_path = 'ratings.py'\n",
    "with open(file_path, 'r') as file:\n",
    "    example1_ans = file.read()\n"
   ]
  },
  {
   "cell_type": "code",
   "execution_count": 12,
   "id": "1c723e44-1e09-45f5-8712-ec6680ea18de",
   "metadata": {},
   "outputs": [],
   "source": [
    "# Example2\n",
    "file_path = 'greetings-button.ipynb'\n",
    "nb_code = nbformat.read(file_path, as_version=4)\n",
    "\n",
    "example2_prompt = ''\n",
    "for cell in nb_code['cells']:\n",
    "    if (cell['cell_type'] == 'code'):\n",
    "        example2_prompt += cell['source'] + '\\n'\n",
    "\n",
    "file_path = 'greetings-button.py'\n",
    "with open(file_path, 'r') as file:\n",
    "    example2_ans = file.read()"
   ]
  },
  {
   "cell_type": "code",
   "execution_count": 13,
   "id": "5154885f-9ed9-4bbe-9032-97ecd5bdd7f5",
   "metadata": {},
   "outputs": [],
   "source": [
    "# Example3\n",
    "file_path = 'title-input.ipynb'\n",
    "nb_code = nbformat.read(file_path, as_version=4)\n",
    "\n",
    "example3_prompt = ''\n",
    "for cell in nb_code['cells']:\n",
    "    if (cell['cell_type'] == 'code'):\n",
    "        example3_prompt += cell['source'] + '\\n'\n",
    "\n",
    "file_path = 'title-input.py'\n",
    "with open(file_path, 'r') as file:\n",
    "    example3_ans = file.read()"
   ]
  },
  {
   "cell_type": "code",
   "execution_count": 14,
   "id": "c48c4aaf-68ee-47bb-ac9b-79281148b60a",
   "metadata": {},
   "outputs": [],
   "source": [
    "# Example4\n",
    "file_path = 'number-input.ipynb'\n",
    "nb_code = nbformat.read(file_path, as_version=4)\n",
    "\n",
    "example4_prompt = ''\n",
    "for cell in nb_code['cells']:\n",
    "    if (cell['cell_type'] == 'code'):\n",
    "        example4_prompt += cell['source'] + '\\n'\n",
    "\n",
    "file_path = 'number-input.py'\n",
    "with open(file_path, 'r') as file:\n",
    "    example4_ans = file.read()"
   ]
  },
  {
   "cell_type": "code",
   "execution_count": 15,
   "id": "810501ef-e91d-4f43-86db-4d38351af27a",
   "metadata": {},
   "outputs": [],
   "source": [
    "system_prompt = \"No syntax errors and complier errors.Streamlit code ONLY\""
   ]
  },
  {
   "cell_type": "code",
   "execution_count": 16,
   "id": "e0a2ef7c-b05f-41b5-af57-cda10943b6b1",
   "metadata": {},
   "outputs": [],
   "source": [
    "user_prompt = f\"Only convert this Python code to Streamlit code using the Streamlit library:\\n\\n{py_script}\\n\\n\""
   ]
  },
  {
   "cell_type": "code",
   "execution_count": 17,
   "id": "d1f16b8b-6568-4234-87e6-926e0d90104a",
   "metadata": {},
   "outputs": [],
   "source": [
    "examples = [\n",
    "    (example1_prompt, example1_ans),\n",
    "    (example2_prompt, example2_ans),\n",
    "    (example3_prompt, example3_ans),\n",
    "    (example4_prompt, example4_ans)\n",
    "]"
   ]
  },
  {
   "cell_type": "code",
   "execution_count": 18,
   "id": "dff2246e-6694-4d91-b361-0d98472903a9",
   "metadata": {},
   "outputs": [],
   "source": [
    "structuredPrompt = prompt_with_examples(user_prompt, examples)"
   ]
  },
  {
   "cell_type": "code",
   "execution_count": 19,
   "id": "1004881a-7a4e-40ec-b70f-fce897a340a0",
   "metadata": {},
   "outputs": [
    {
     "name": "stdout",
     "output_type": "stream",
     "text": [
      "```python\n",
      "import streamlit as st\n",
      "import pandas as pd\n",
      "import numpy as np\n",
      "import plotly.express as px\n",
      "\n",
      "st.title(\"Scatter Plot with Size and Color Based on Data\")\n",
      "\n",
      "# Generate random data\n",
      "df = pd.DataFrame(np.random.randn(200, 3), columns=[\"a\", \"b\", \"c\"])\n",
      "\n",
      "# Ensure size values are non-negative by taking the absolute value\n",
      "df['c'] = df['c'].abs()\n",
      "\n",
      "# Create the scatter plot using Streamlit's integration with Plotly Express\n",
      "fig = px.scatter(df, x='a', y='b', \n",
      "                 size='c', \n",
      "                 color='c', \n",
      "                 color_continuous_scale=px.colors.sequential.Blues[::-1],  # Lighter shades for smaller c\n",
      "                 hover_data={'a': True, 'b': True, 'c': True},  # Show only a, b, and c\n",
      "                 )\n",
      "\n",
      "# Display the figure using Streamlit\n",
      "st.plotly_chart(fig) \n",
      "```\n",
      "\n",
      "\n",
      "\n",
      "**Explanation:**\n",
      "\n",
      "* **Import Libraries:** We import `streamlit`,`pandas`, `numpy`, and `plotly.express`.\n",
      "* **Streamlit Title:** Use `st.title()` to set a title for your application.\n",
      "* **Data Generation:** No changes needed here, it's the same code to create the DataFrame.\n",
      "* **Plotly Scatter Chart:**  \n",
      "    * Replace `fig.show()` with `st.plotly_chart(fig)` to embed the Plotly figure directly within Streamlit.  \n",
      "\n",
      "**Running the Code:**\n",
      "1. **Save as .py:** Save your code as a `.py` file (e.g., `app.py`).\n",
      "2. **Install Dependencies:** Make sure you have Streamlit and its dependencies installed: \n",
      "   ```bash\n",
      "   pip install streamlit plotly pandas numpy\n",
      "   ```\n",
      "3. **Run with Streamlit:** Open your terminal or command prompt and run:\n",
      "   ```bash\n",
      "   streamlit run app.py \n",
      "   ```\n",
      "\n",
      "\n",
      "\n",
      "Let me know if you have any other Python code snippets you'd like to convert to Streamlit!\n"
     ]
    }
   ],
   "source": [
    "output = generate(system_prompt, structuredPrompt, model= model)\n",
    "print(output)"
   ]
  },
  {
   "cell_type": "code",
   "execution_count": 20,
   "id": "b7b6a97d-9e0e-4141-9b23-3cb80d207c7e",
   "metadata": {},
   "outputs": [
    {
     "name": "stdout",
     "output_type": "stream",
     "text": [
      "import streamlit as st\n",
      "import pandas as pd\n",
      "import numpy as np\n",
      "import plotly.express as px\n",
      "\n",
      "st.title(\"Scatter Plot with Size and Color Based on Data\")\n",
      "\n",
      "# Generate random data\n",
      "df = pd.DataFrame(np.random.randn(200, 3), columns=[\"a\", \"b\", \"c\"])\n",
      "\n",
      "# Ensure size values are non-negative by taking the absolute value\n",
      "df['c'] = df['c'].abs()\n",
      "\n",
      "# Create the scatter plot using Streamlit's integration with Plotly Express\n",
      "fig = px.scatter(df, x='a', y='b', \n",
      "                 size='c', \n",
      "                 color='c', \n",
      "                 color_continuous_scale=px.colors.sequential.Blues[::-1],  # Lighter shades for smaller c\n",
      "                 hover_data={'a': True, 'b': True, 'c': True},  # Show only a, b, and c\n",
      "                 )\n",
      "\n",
      "# Display the figure using Streamlit\n",
      "st.plotly_chart(fig)\n"
     ]
    }
   ],
   "source": [
    "start_index = output.find(\"```\") + 3  # Move past the first '''\n",
    "start_index = output.find(\"\\n\", start_index) + 1\n",
    "substring = output[start_index:]  # Start from after the first '''\n",
    "\n",
    "# Find the position of the second occurrence of '''\n",
    "end_index = substring.find(\"```\")  # Find the second '''\n",
    "\n",
    "# Extract the substring between the first and second ''' (which is only the code part)\n",
    "final_substring = substring[:end_index].strip()  # Remove any leading/trailing whitespace\n",
    "\n",
    "# Output the desired substring (just the code)\n",
    "print(final_substring)"
   ]
  },
  {
   "cell_type": "code",
   "execution_count": null,
   "id": "7678af90-9d54-4473-90ef-a1030b17de0e",
   "metadata": {},
   "outputs": [],
   "source": []
  }
 ],
 "metadata": {
  "kernelspec": {
   "display_name": "Python 3 (ipykernel)",
   "language": "python",
   "name": "python3"
  },
  "language_info": {
   "codemirror_mode": {
    "name": "ipython",
    "version": 3
   },
   "file_extension": ".py",
   "mimetype": "text/x-python",
   "name": "python",
   "nbconvert_exporter": "python",
   "pygments_lexer": "ipython3",
   "version": "3.11.10"
  }
 },
 "nbformat": 4,
 "nbformat_minor": 5
}
